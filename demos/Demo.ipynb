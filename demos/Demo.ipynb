{
 "cells": [
  {
   "cell_type": "code",
   "execution_count": 1,
   "id": "3ca62baf-153e-4d23-a28f-8443b92f88cc",
   "metadata": {},
   "outputs": [],
   "source": [
    "from SurveyTool.SurveyTool import SurveyTool\n",
    "from SurveyTool.CsvUtil import CsvUtil"
   ]
  },
  {
   "cell_type": "code",
   "execution_count": 2,
   "id": "4a930acd-4708-4bf9-9729-fa31f45b5285",
   "metadata": {},
   "outputs": [],
   "source": [
    "from pathlib import Path"
   ]
  },
  {
   "cell_type": "code",
   "execution_count": 3,
   "id": "549d9351-5a3d-490a-86f8-84e4b652af72",
   "metadata": {},
   "outputs": [],
   "source": [
    "path_to_survey_responses = Path(r'D:\\VisualStudio\\Python\\public_projects\\polars_research\\datasets\\W139_Dec23\\ATP W139.csv')\n",
    "path_to_codebook_xlsx = Path(r'D:\\VisualStudio\\Python\\public_projects\\polars_research\\datasets\\W139_Dec23\\ATP W139 Codebook.xlsx')"
   ]
  },
  {
   "cell_type": "code",
   "execution_count": 4,
   "id": "457e7209-f7ca-4104-ab0b-1b29e3988d35",
   "metadata": {},
   "outputs": [],
   "source": [
    "survey_tool = SurveyTool(path_to_survey_responses, path_to_codebook_xlsx)"
   ]
  },
  {
   "cell_type": "code",
   "execution_count": 5,
   "id": "584346f8-aea4-4f3f-ba24-2f4d96c3f31f",
   "metadata": {},
   "outputs": [
    {
     "name": "stdout",
     "output_type": "stream",
     "text": [
      "Succesfully wrote D:\\VisualStudio\\Python\\public_projects\\polars_research\\datasets\\W139_Dec23\\ATP W139 Codebook.csv\n"
     ]
    }
   ],
   "source": [
    "survey_tool.codebook_to_csv()"
   ]
  },
  {
   "cell_type": "code",
   "execution_count": 6,
   "id": "41260d57-2827-4230-a231-bd86f59b44db",
   "metadata": {},
   "outputs": [
    {
     "name": "stdout",
     "output_type": "stream",
     "text": [
      "Wrote D:\\VisualStudio\\Python\\public_projects\\polars_research\\datasets\\W139_Dec23\\ATP W139 Codebook_ffilled.csv\n"
     ]
    }
   ],
   "source": [
    "survey_tool.survey_codebook_csv.fill_forward('Variable_Label')"
   ]
  },
  {
   "cell_type": "code",
   "execution_count": 7,
   "id": "7d49de1e-a117-458c-8b9b-6aa2ca34a62d",
   "metadata": {},
   "outputs": [],
   "source": [
    "survey_tool.question_lookup_dict(primary_header='Variable_Label',excluded_variable_labels=['Unique ID','Interview start time','Interview end time'])"
   ]
  },
  {
   "cell_type": "code",
   "execution_count": 8,
   "id": "f8081860-d71a-428f-aad8-1bd3d7db37e5",
   "metadata": {
    "scrolled": true
   },
   "outputs": [
    {
     "name": "stdout",
     "output_type": "stream",
     "text": [
      "The device used in the latest access of the survey link\n",
      " Language of interview\n",
      "Wave 139 form assignment\n",
      "Flag to identify Republicans, Republican leaners and non-leaners.\n",
      "Flag to identify registered voters\n",
      "All in all, are you satisfied or dissatisfied with the way things are going in this country today?\n",
      "Do you approve or disapprove of the way Joe Biden is handling his job as president?\n",
      "Do you [approve/disapprove] of the way Joe Biden is handling his job as president…\n",
      "The Republican Party // Do you have a favorable or unfavorable opinion of each of the following?\n",
      "The Democratic Party // Do you have a favorable or unfavorable opinion of each of the following?\n",
      "Congress // Do you have a favorable or unfavorable opinion of each of the following?\n",
      "The federal government in Washington // Do you have a favorable or unfavorable opinion of each of the following?\n",
      "Your STATE government // Do you have a favorable or unfavorable opinion of each of the following?\n",
      "Your LOCAL government // Do you have a favorable or unfavorable opinion of each of the following?\n",
      "Make good decisions about economic policy // Thinking about Joe Biden’s ability to handle a number of things, how confident are you that Joe Biden can do each of the following?\n",
      "Handle an international crisis // Thinking about Joe Biden’s ability to handle a number of things, how confident are you that Joe Biden can do each of the following?\n",
      "Make wise decisions about immigration policy // Thinking about Joe Biden’s ability to handle a number of things, how confident are you that Joe Biden can do each of the following?\n",
      "Work effectively with Congress // Thinking about Joe Biden’s ability to handle a number of things, how confident are you that Joe Biden can do each of the following?\n",
      "Bring the country closer together // Thinking about Joe Biden’s ability to handle a number of things, how confident are you that Joe Biden can do each of the following?\n",
      "Do you approve or disapprove of the Biden administration’s response to the Israel-Hamas war?\n",
      "Overall, what`s your impression of the candidates running for the Republican presidential nomination? AS A GROUP, would you say the candidates are…\n",
      "Thinking about the 2024 presidential election, who would be your first choice for the Republican nomination for president?    Coded first choice\n",
      "Donald Trump // Regardless of who your first choice is, how would you feel if each of the following became the Republican nominee in 2024?\n",
      "Ron DeSantis // Regardless of who your first choice is, how would you feel if each of the following became the Republican nominee in 2024?\n",
      "Chris Christie // Regardless of who your first choice is, how would you feel if each of the following became the Republican nominee in 2024?\n",
      "Vivek Ramaswamy // Regardless of who your first choice is, how would you feel if each of the following became the Republican nominee in 2024?\n",
      "Nikki Haley // Regardless of who your first choice is, how would you feel if each of the following became the Republican nominee in 2024?\n",
      "Which is more important to you in a Republican presidential candidate? Someone who, if elected president, will focus on…\n",
      "Overall, how good a job do you think next year’s caucuses and primaries will do at selecting the best Republican candidate for the general election?\n",
      "So far, would you say the campaign for the Republican nomination has been…\n",
      "From what you’ve read or heard, do you think the competition for the Republican nomination in 2024 will be…\n",
      "How closely have you been following news about Russia’s invasion of Ukraine?\n",
      "Do you approve or disapprove of the Biden administration’s response to Russia’s invasion of Ukraine?\n",
      "When it comes to Russia’s invasion of Ukraine, do you think the U.S. is providing…\n",
      "How much of a threat to U.S. interests is Russia’s invasion of Ukraine?\n",
      "Can effectively manage the federal government // Thinking about the Republican and Democratic parties… Which party do you think is better described by each of the following phrases?\n",
      "Is willing to work with political leaders from the other party // Thinking about the Republican and Democratic parties… Which party do you think is better described by each of the following phrases?\n",
      "Is concerned with the needs of people like me // Thinking about the Republican and Democratic parties… Which party do you think is better described by each of the following phrases?\n",
      "Selects good candidates for office // Thinking about the Republican and Democratic parties… Which party do you think is better described by each of the following phrases?\n",
      "Governs in an honest and ethical way // Thinking about the Republican and Democratic parties… Which party do you think is better described by each of the following phrases?\n",
      "Tries to unite the country // Thinking about the Republican and Democratic parties… Which party do you think is better described by each of the following phrases?\n",
      "Has effective leaders in Congress // Thinking about the Republican and Democratic parties… Which party do you think is better described by each of the following phrases?\n",
      "Is concerned with the needs of middle-class people // Thinking about the Republican and Democratic parties… Which party do you think is better described by each of the following phrases?\n",
      "How closely have you been following news about the Israel-Hamas war?\n",
      "Israeli government // How much responsibility do each of the following have for Israel and Hamas currently being at war?\n",
      "Hamas, the militant Palestinian group // How much responsibility do each of the following have for Israel and Hamas currently being at war?\n",
      "Israeli people // How much responsibility do each of the following have for Israel and Hamas currently being at war?\n",
      "Palestinian people // How much responsibility do each of the following have for Israel and Hamas currently being at war?\n",
      "Thinking about Israel’s current military operation against Hamas, is Israel…\n",
      "Do you think Joe Biden is…\n",
      "The war expanding to other countries in the region // Thinking about the war between Israel and Hamas, how concerned are you about the possibility of each of the following?\n",
      "The war leading to a terrorist attack in the United States // Thinking about the war between Israel and Hamas, how concerned are you about the possibility of each of the following?\n",
      "The war going on for a very long time // Thinking about the war between Israel and Hamas, how concerned are you about the possibility of each of the following?\n",
      "Increasing violence against Jewish people in the U.S. // Thinking about the war between Israel and Hamas, how concerned are you about the possibility of each of the following?\n",
      "Increasing violence against Muslim people in the U.S. // Thinking about the war between Israel and Hamas, how concerned are you about the possibility of each of the following?\n",
      "Now, thinking about the future, and not just the current conflict… Do you think a way can be found for Israel and an independent Palestinian state to coexist peacefully with each other?\n",
      "How important do you think it is for someone to have a four-year college degree in order to get a well-paying job in today’s economy?\n",
      "Compared to 20 years ago, how important would you say it is for someone to have a four-year college degree in order to get a well-paying job?\n",
      "Overall, how useful was your education in giving you the skills and knowledge you needed to get a well-paying job?\n",
      "Thinking about the cost of getting a four-year college degree today, would you say it is…\n",
      "How likely is it that someone who does not have a four-year college degree could get a well-paying job in today’s economy?\n",
      "Finally… Since he entered politics, has Donald Trump’s impact on the Republican Party been…\n",
      "Metropolitan area indicator\n",
      "Census region\n",
      "Census division\n",
      " Self-identified Urban, Suburban, Rural (USR)\n",
      "Age category\n",
      "Gender\n",
      "Education level category\n",
      "Education level category 2\n",
      "Hispanic identification\n",
      "Hispanic origin\n",
      "Years lived in the United States (excluding Puerto Rico or other U.S. territories) - 4 category\n",
      "Combining Race\n",
      "Race-Ethnicity\n",
      "Birthplace\n",
      "Marital status\n",
      "Religion\n",
      "Born-again or evangelical Christian\n",
      "Condensed 4-way religion variable\n",
      "Religious service attendance in person\n",
      "Party\n",
      "Party lean\n",
      "Party summary\n",
      "Combining ideology and party identification\n",
      "REG.   Voter registration\n",
      "Family income\n",
      "Ideology\n",
      "Frequency of internet use\n",
      "Volunteerism status\n",
      "Income tier 3-way\n",
      "Wave 139 weight\n"
     ]
    }
   ],
   "source": [
    "survey_tool.list_questions()"
   ]
  },
  {
   "cell_type": "code",
   "execution_count": 11,
   "id": "33f6baca-f6bc-4993-b6cd-a0f5e6855eac",
   "metadata": {},
   "outputs": [
    {
     "data": {
      "application/vnd.plotly.v1+json": {
       "config": {
        "plotlyServerURL": "https://plot.ly"
       },
       "data": [
        {
         "domain": {
          "x": [
           0,
           1
          ],
          "y": [
           0,
           1
          ]
         },
         "hovertemplate": "Response=%{label}<br>Count=%{value}<extra></extra>",
         "labels": [
          "Donald Trump",
          "Ron DeSantis",
          "Refused/NA",
          "Nikki Haley",
          "Undecided",
          "No one",
          "Other",
          "Vivek Ramaswamy",
          "Chris Christie",
          "Joe Biden",
          "Robert F. Kennedy, Jr.",
          "Doug Burgum",
          "Anyone",
          "Asa Hutchinson"
         ],
         "legendgroup": "",
         "name": "",
         "showlegend": true,
         "type": "pie",
         "values": {
          "bdata": "sQQyARQB/wDAAGsATQBCAB4ADAAKAAgABAACAA==",
          "dtype": "i2"
         }
        }
       ],
       "layout": {
        "height": 600,
        "legend": {
         "tracegroupgap": 0
        },
        "margin": {
         "t": 100
        },
        "template": {
         "data": {
          "bar": [
           {
            "error_x": {
             "color": "#2a3f5f"
            },
            "error_y": {
             "color": "#2a3f5f"
            },
            "marker": {
             "line": {
              "color": "#E5ECF6",
              "width": 0.5
             },
             "pattern": {
              "fillmode": "overlay",
              "size": 10,
              "solidity": 0.2
             }
            },
            "type": "bar"
           }
          ],
          "barpolar": [
           {
            "marker": {
             "line": {
              "color": "#E5ECF6",
              "width": 0.5
             },
             "pattern": {
              "fillmode": "overlay",
              "size": 10,
              "solidity": 0.2
             }
            },
            "type": "barpolar"
           }
          ],
          "carpet": [
           {
            "aaxis": {
             "endlinecolor": "#2a3f5f",
             "gridcolor": "white",
             "linecolor": "white",
             "minorgridcolor": "white",
             "startlinecolor": "#2a3f5f"
            },
            "baxis": {
             "endlinecolor": "#2a3f5f",
             "gridcolor": "white",
             "linecolor": "white",
             "minorgridcolor": "white",
             "startlinecolor": "#2a3f5f"
            },
            "type": "carpet"
           }
          ],
          "choropleth": [
           {
            "colorbar": {
             "outlinewidth": 0,
             "ticks": ""
            },
            "type": "choropleth"
           }
          ],
          "contour": [
           {
            "colorbar": {
             "outlinewidth": 0,
             "ticks": ""
            },
            "colorscale": [
             [
              0,
              "#0d0887"
             ],
             [
              0.1111111111111111,
              "#46039f"
             ],
             [
              0.2222222222222222,
              "#7201a8"
             ],
             [
              0.3333333333333333,
              "#9c179e"
             ],
             [
              0.4444444444444444,
              "#bd3786"
             ],
             [
              0.5555555555555556,
              "#d8576b"
             ],
             [
              0.6666666666666666,
              "#ed7953"
             ],
             [
              0.7777777777777778,
              "#fb9f3a"
             ],
             [
              0.8888888888888888,
              "#fdca26"
             ],
             [
              1,
              "#f0f921"
             ]
            ],
            "type": "contour"
           }
          ],
          "contourcarpet": [
           {
            "colorbar": {
             "outlinewidth": 0,
             "ticks": ""
            },
            "type": "contourcarpet"
           }
          ],
          "heatmap": [
           {
            "colorbar": {
             "outlinewidth": 0,
             "ticks": ""
            },
            "colorscale": [
             [
              0,
              "#0d0887"
             ],
             [
              0.1111111111111111,
              "#46039f"
             ],
             [
              0.2222222222222222,
              "#7201a8"
             ],
             [
              0.3333333333333333,
              "#9c179e"
             ],
             [
              0.4444444444444444,
              "#bd3786"
             ],
             [
              0.5555555555555556,
              "#d8576b"
             ],
             [
              0.6666666666666666,
              "#ed7953"
             ],
             [
              0.7777777777777778,
              "#fb9f3a"
             ],
             [
              0.8888888888888888,
              "#fdca26"
             ],
             [
              1,
              "#f0f921"
             ]
            ],
            "type": "heatmap"
           }
          ],
          "histogram": [
           {
            "marker": {
             "pattern": {
              "fillmode": "overlay",
              "size": 10,
              "solidity": 0.2
             }
            },
            "type": "histogram"
           }
          ],
          "histogram2d": [
           {
            "colorbar": {
             "outlinewidth": 0,
             "ticks": ""
            },
            "colorscale": [
             [
              0,
              "#0d0887"
             ],
             [
              0.1111111111111111,
              "#46039f"
             ],
             [
              0.2222222222222222,
              "#7201a8"
             ],
             [
              0.3333333333333333,
              "#9c179e"
             ],
             [
              0.4444444444444444,
              "#bd3786"
             ],
             [
              0.5555555555555556,
              "#d8576b"
             ],
             [
              0.6666666666666666,
              "#ed7953"
             ],
             [
              0.7777777777777778,
              "#fb9f3a"
             ],
             [
              0.8888888888888888,
              "#fdca26"
             ],
             [
              1,
              "#f0f921"
             ]
            ],
            "type": "histogram2d"
           }
          ],
          "histogram2dcontour": [
           {
            "colorbar": {
             "outlinewidth": 0,
             "ticks": ""
            },
            "colorscale": [
             [
              0,
              "#0d0887"
             ],
             [
              0.1111111111111111,
              "#46039f"
             ],
             [
              0.2222222222222222,
              "#7201a8"
             ],
             [
              0.3333333333333333,
              "#9c179e"
             ],
             [
              0.4444444444444444,
              "#bd3786"
             ],
             [
              0.5555555555555556,
              "#d8576b"
             ],
             [
              0.6666666666666666,
              "#ed7953"
             ],
             [
              0.7777777777777778,
              "#fb9f3a"
             ],
             [
              0.8888888888888888,
              "#fdca26"
             ],
             [
              1,
              "#f0f921"
             ]
            ],
            "type": "histogram2dcontour"
           }
          ],
          "mesh3d": [
           {
            "colorbar": {
             "outlinewidth": 0,
             "ticks": ""
            },
            "type": "mesh3d"
           }
          ],
          "parcoords": [
           {
            "line": {
             "colorbar": {
              "outlinewidth": 0,
              "ticks": ""
             }
            },
            "type": "parcoords"
           }
          ],
          "pie": [
           {
            "automargin": true,
            "type": "pie"
           }
          ],
          "scatter": [
           {
            "fillpattern": {
             "fillmode": "overlay",
             "size": 10,
             "solidity": 0.2
            },
            "type": "scatter"
           }
          ],
          "scatter3d": [
           {
            "line": {
             "colorbar": {
              "outlinewidth": 0,
              "ticks": ""
             }
            },
            "marker": {
             "colorbar": {
              "outlinewidth": 0,
              "ticks": ""
             }
            },
            "type": "scatter3d"
           }
          ],
          "scattercarpet": [
           {
            "marker": {
             "colorbar": {
              "outlinewidth": 0,
              "ticks": ""
             }
            },
            "type": "scattercarpet"
           }
          ],
          "scattergeo": [
           {
            "marker": {
             "colorbar": {
              "outlinewidth": 0,
              "ticks": ""
             }
            },
            "type": "scattergeo"
           }
          ],
          "scattergl": [
           {
            "marker": {
             "colorbar": {
              "outlinewidth": 0,
              "ticks": ""
             }
            },
            "type": "scattergl"
           }
          ],
          "scattermap": [
           {
            "marker": {
             "colorbar": {
              "outlinewidth": 0,
              "ticks": ""
             }
            },
            "type": "scattermap"
           }
          ],
          "scattermapbox": [
           {
            "marker": {
             "colorbar": {
              "outlinewidth": 0,
              "ticks": ""
             }
            },
            "type": "scattermapbox"
           }
          ],
          "scatterpolar": [
           {
            "marker": {
             "colorbar": {
              "outlinewidth": 0,
              "ticks": ""
             }
            },
            "type": "scatterpolar"
           }
          ],
          "scatterpolargl": [
           {
            "marker": {
             "colorbar": {
              "outlinewidth": 0,
              "ticks": ""
             }
            },
            "type": "scatterpolargl"
           }
          ],
          "scatterternary": [
           {
            "marker": {
             "colorbar": {
              "outlinewidth": 0,
              "ticks": ""
             }
            },
            "type": "scatterternary"
           }
          ],
          "surface": [
           {
            "colorbar": {
             "outlinewidth": 0,
             "ticks": ""
            },
            "colorscale": [
             [
              0,
              "#0d0887"
             ],
             [
              0.1111111111111111,
              "#46039f"
             ],
             [
              0.2222222222222222,
              "#7201a8"
             ],
             [
              0.3333333333333333,
              "#9c179e"
             ],
             [
              0.4444444444444444,
              "#bd3786"
             ],
             [
              0.5555555555555556,
              "#d8576b"
             ],
             [
              0.6666666666666666,
              "#ed7953"
             ],
             [
              0.7777777777777778,
              "#fb9f3a"
             ],
             [
              0.8888888888888888,
              "#fdca26"
             ],
             [
              1,
              "#f0f921"
             ]
            ],
            "type": "surface"
           }
          ],
          "table": [
           {
            "cells": {
             "fill": {
              "color": "#EBF0F8"
             },
             "line": {
              "color": "white"
             }
            },
            "header": {
             "fill": {
              "color": "#C8D4E3"
             },
             "line": {
              "color": "white"
             }
            },
            "type": "table"
           }
          ]
         },
         "layout": {
          "annotationdefaults": {
           "arrowcolor": "#2a3f5f",
           "arrowhead": 0,
           "arrowwidth": 1
          },
          "autotypenumbers": "strict",
          "coloraxis": {
           "colorbar": {
            "outlinewidth": 0,
            "ticks": ""
           }
          },
          "colorscale": {
           "diverging": [
            [
             0,
             "#8e0152"
            ],
            [
             0.1,
             "#c51b7d"
            ],
            [
             0.2,
             "#de77ae"
            ],
            [
             0.3,
             "#f1b6da"
            ],
            [
             0.4,
             "#fde0ef"
            ],
            [
             0.5,
             "#f7f7f7"
            ],
            [
             0.6,
             "#e6f5d0"
            ],
            [
             0.7,
             "#b8e186"
            ],
            [
             0.8,
             "#7fbc41"
            ],
            [
             0.9,
             "#4d9221"
            ],
            [
             1,
             "#276419"
            ]
           ],
           "sequential": [
            [
             0,
             "#0d0887"
            ],
            [
             0.1111111111111111,
             "#46039f"
            ],
            [
             0.2222222222222222,
             "#7201a8"
            ],
            [
             0.3333333333333333,
             "#9c179e"
            ],
            [
             0.4444444444444444,
             "#bd3786"
            ],
            [
             0.5555555555555556,
             "#d8576b"
            ],
            [
             0.6666666666666666,
             "#ed7953"
            ],
            [
             0.7777777777777778,
             "#fb9f3a"
            ],
            [
             0.8888888888888888,
             "#fdca26"
            ],
            [
             1,
             "#f0f921"
            ]
           ],
           "sequentialminus": [
            [
             0,
             "#0d0887"
            ],
            [
             0.1111111111111111,
             "#46039f"
            ],
            [
             0.2222222222222222,
             "#7201a8"
            ],
            [
             0.3333333333333333,
             "#9c179e"
            ],
            [
             0.4444444444444444,
             "#bd3786"
            ],
            [
             0.5555555555555556,
             "#d8576b"
            ],
            [
             0.6666666666666666,
             "#ed7953"
            ],
            [
             0.7777777777777778,
             "#fb9f3a"
            ],
            [
             0.8888888888888888,
             "#fdca26"
            ],
            [
             1,
             "#f0f921"
            ]
           ]
          },
          "colorway": [
           "#636efa",
           "#EF553B",
           "#00cc96",
           "#ab63fa",
           "#FFA15A",
           "#19d3f3",
           "#FF6692",
           "#B6E880",
           "#FF97FF",
           "#FECB52"
          ],
          "font": {
           "color": "#2a3f5f"
          },
          "geo": {
           "bgcolor": "white",
           "lakecolor": "white",
           "landcolor": "#E5ECF6",
           "showlakes": true,
           "showland": true,
           "subunitcolor": "white"
          },
          "hoverlabel": {
           "align": "left"
          },
          "hovermode": "closest",
          "mapbox": {
           "style": "light"
          },
          "paper_bgcolor": "white",
          "plot_bgcolor": "#E5ECF6",
          "polar": {
           "angularaxis": {
            "gridcolor": "white",
            "linecolor": "white",
            "ticks": ""
           },
           "bgcolor": "#E5ECF6",
           "radialaxis": {
            "gridcolor": "white",
            "linecolor": "white",
            "ticks": ""
           }
          },
          "scene": {
           "xaxis": {
            "backgroundcolor": "#E5ECF6",
            "gridcolor": "white",
            "gridwidth": 2,
            "linecolor": "white",
            "showbackground": true,
            "ticks": "",
            "zerolinecolor": "white"
           },
           "yaxis": {
            "backgroundcolor": "#E5ECF6",
            "gridcolor": "white",
            "gridwidth": 2,
            "linecolor": "white",
            "showbackground": true,
            "ticks": "",
            "zerolinecolor": "white"
           },
           "zaxis": {
            "backgroundcolor": "#E5ECF6",
            "gridcolor": "white",
            "gridwidth": 2,
            "linecolor": "white",
            "showbackground": true,
            "ticks": "",
            "zerolinecolor": "white"
           }
          },
          "shapedefaults": {
           "line": {
            "color": "#2a3f5f"
           }
          },
          "ternary": {
           "aaxis": {
            "gridcolor": "white",
            "linecolor": "white",
            "ticks": ""
           },
           "baxis": {
            "gridcolor": "white",
            "linecolor": "white",
            "ticks": ""
           },
           "bgcolor": "#E5ECF6",
           "caxis": {
            "gridcolor": "white",
            "linecolor": "white",
            "ticks": ""
           }
          },
          "title": {
           "x": 0.05
          },
          "xaxis": {
           "automargin": true,
           "gridcolor": "white",
           "linecolor": "white",
           "ticks": "",
           "title": {
            "standoff": 15
           },
           "zerolinecolor": "white",
           "zerolinewidth": 2
          },
          "yaxis": {
           "automargin": true,
           "gridcolor": "white",
           "linecolor": "white",
           "ticks": "",
           "title": {
            "standoff": 15
           },
           "zerolinecolor": "white",
           "zerolinewidth": 2
          }
         }
        },
        "title": {
         "font": {
          "size": 10
         },
         "text": "Thinking about the 2024 presidential election, who would be your first choice for the Republican nomination for president?    Coded first choice"
        },
        "width": 600
       }
      },
      "image/png": "[encoded data removed]"
     },
     "metadata": {},
     "output_type": "display_data"
    }
   ],
   "source": [
    "survey_tool.vizualize_results('Thinking about the 2024 presidential election, who would be your first choice for the Republican nomination for president?    Coded first choice')"
   ]
  }
 ],
 "metadata": {
  "kernelspec": {
   "display_name": "Polars Research",
   "language": "python",
   "name": "polars_research"
  },
  "language_info": {
   "codemirror_mode": {
    "name": "ipython",
    "version": 3
   },
   "file_extension": ".py",
   "mimetype": "text/x-python",
   "name": "python",
   "nbconvert_exporter": "python",
   "pygments_lexer": "ipython3",
   "version": "3.13.2"
  }
 },
 "nbformat": 4,
 "nbformat_minor": 5
}
