{
 "cells": [
  {
   "cell_type": "code",
   "execution_count": 1,
   "id": "3ca62baf-153e-4d23-a28f-8443b92f88cc",
   "metadata": {},
   "outputs": [],
   "source": [
    "from SurveyTool.SurveyTool import SurveyTool\n",
    "from SurveyTool.CsvUtil import CsvUtil"
   ]
  },
  {
   "cell_type": "code",
   "execution_count": 2,
   "id": "4a930acd-4708-4bf9-9729-fa31f45b5285",
   "metadata": {},
   "outputs": [],
   "source": [
    "from pathlib import Path"
   ]
  },
  {
   "cell_type": "code",
   "execution_count": 3,
   "id": "549d9351-5a3d-490a-86f8-84e4b652af72",
   "metadata": {},
   "outputs": [],
   "source": [
    "path_to_survey_responses = Path(r'D:\\VisualStudio\\Python\\public_projects\\polars_research\\datasets\\W144_Mar24\\ATP W144.csv')\n",
    "path_to_codebook_xlsx = Path(r'D:\\VisualStudio\\Python\\public_projects\\polars_research\\datasets\\W144_Mar24\\ATP W144 Codebook.xlsx')"
   ]
  },
  {
   "cell_type": "code",
   "execution_count": 4,
   "id": "457e7209-f7ca-4104-ab0b-1b29e3988d35",
   "metadata": {},
   "outputs": [],
   "source": [
    "survey_tool = SurveyTool(path_to_survey_responses, path_to_codebook_xlsx)"
   ]
  },
  {
   "cell_type": "code",
   "execution_count": 5,
   "id": "584346f8-aea4-4f3f-ba24-2f4d96c3f31f",
   "metadata": {},
   "outputs": [],
   "source": [
    "#survey_tool.codebook_to_csv()"
   ]
  },
  {
   "cell_type": "code",
   "execution_count": 6,
   "id": "41260d57-2827-4230-a231-bd86f59b44db",
   "metadata": {},
   "outputs": [],
   "source": [
    "#survey_tool.survey_codebook_csv.fill_forward('Variable_Label')"
   ]
  },
  {
   "cell_type": "code",
   "execution_count": 7,
   "id": "7d49de1e-a117-458c-8b9b-6aa2ca34a62d",
   "metadata": {},
   "outputs": [],
   "source": [
    "#survey_tool.question_lookup_dict(primary_header='Variable_Label',excluded_variable_labels=['Unique ID','Interview start time','Interview end time'])"
   ]
  },
  {
   "cell_type": "code",
   "execution_count": 8,
   "id": "881e29db-a75e-4367-af78-b62cd1a85759",
   "metadata": {},
   "outputs": [
    {
     "name": "stdout",
     "output_type": "stream",
     "text": [
      "Succesfully wrote D:\\VisualStudio\\Python\\public_projects\\polars_research\\datasets\\W144_Mar24\\ATP W144 Codebook.csv\n",
      "Wrote D:\\VisualStudio\\Python\\public_projects\\polars_research\\datasets\\W144_Mar24\\ATP W144 Codebook_ffilled.csv\n"
     ]
    }
   ],
   "source": [
    "survey_tool.auto_setup()"
   ]
  },
  {
   "cell_type": "code",
   "execution_count": 9,
   "id": "f8081860-d71a-428f-aad8-1bd3d7db37e5",
   "metadata": {
    "scrolled": true
   },
   "outputs": [
    {
     "name": "stdout",
     "output_type": "stream",
     "text": [
      "The device used in the latest access of the survey link\n",
      " Language of interview\n",
      "Flag to randomly assign panelists to answer module about either Facebook or Instagram if they use all four social media platforms.\n",
      "Facebook // Please indicate whether or not you ever use the following websites or apps.\n",
      "X (formerly Twitter) // Please indicate whether or not you ever use the following websites or apps.\n",
      "Instagram // Please indicate whether or not you ever use the following websites or apps.\n",
      "TikTok // Please indicate whether or not you ever use the following websites or apps.\n",
      "Facebook // About how often do you visit or use…\n",
      "X (formerly Twitter) // About how often do you visit or use…\n",
      "Instagram // About how often do you visit or use…\n",
      "TikTok // About how often do you visit or use…\n",
      "Facebook // Do you regularly get news or news headlines on any of the following social media sites or apps? By news we mean information about events and issues that involve more than just your friends or family.\n",
      "X (formerly Twitter) // Do you regularly get news or news headlines on any of the following social media sites or apps? By news we mean information about events and issues that involve more than just your friends or family.\n",
      "Instagram // Do you regularly get news or news headlines on any of the following social media sites or apps? By news we mean information about events and issues that involve more than just your friends or family.\n",
      "TikTok // Do you regularly get news or news headlines on any of the following social media sites or apps? By news we mean information about events and issues that involve more than just your friends or family.\n",
      "Data only variable for using all four platforms\n",
      "Data only variable for asking Facebook (FB) module\n",
      "Data only variable for asking Instagram (IG) module\n",
      "To get news // How much is each of the following a reason you use Facebook?\n",
      "To keep up with politics or political issues // How much is each of the following a reason you use Facebook?\n",
      "To keep up with sports or pop culture // How much is each of the following a reason you use Facebook?\n",
      "Because it’s entertaining // How much is each of the following a reason you use Facebook?\n",
      "To keep up with friends and family // How much is each of the following a reason you use Facebook?\n",
      "To connect with others who share your interests // How much is each of the following a reason you use Facebook?\n",
      "To look at product reviews or recommendations // How much is each of the following a reason you use Facebook?\n",
      "Overall, do you think Facebook...\n",
      "News outlets or journalists // Do you ever get news from each of the following on Facebook?\n",
      "Friends, family, and acquaintances // Do you ever get news from each of the following on Facebook?\n",
      "Influencers or celebrities // Do you ever get news from each of the following on Facebook?\n",
      "Advocacy or non-profit organizations // Do you ever get news from each of the following on Facebook?\n",
      "Other people you don’t know personally // Do you ever get news from each of the following on Facebook?\n",
      "Funny posts that reference current events // Do you ever see each of the following on Facebook?\n",
      "News articles, whether posted, reposted, linked, or screenshotted // Do you ever see each of the following on Facebook?\n",
      "People expressing opinions about current events // Do you ever see each of the following on Facebook?\n",
      "Information about a breaking news event as it’s happening // Do you ever see each of the following on Facebook?\n",
      "How often do you see news on Facebook that seems inaccurate?\n",
      "How much, if at all, do you think Facebook influences which news stories you see on the platform?\n",
      "Would you say the news you get on Facebook is…\n",
      "How often do you feel worn out by the news you see on Facebook?\n",
      "How much of a problem is people getting harassed on Facebook?\n",
      "Do you ever post or share on Facebook?\n",
      "How much of what you post or share on Facebook is about politics or political issues?\n",
      "Your views are welcome there // How much is each of the following a reason you post or share about politics or political issues on Facebook?\n",
      "It’s a place you can make a difference // How much is each of the following a reason you post or share about politics or political issues on Facebook?\n",
      "Politics belongs there // How much is each of the following a reason you post or share about politics or political issues on Facebook?\n",
      "You feel it’s something you should do // How much is each of the following a reason you post or share about politics or political issues on Facebook?\n",
      "You don’t want to be criticized or harassed there // How much is each of the following a reason you don’t post or share about politics or political issues on Facebook?\n",
      "Posting there won’t make a difference // How much is each of the following a reason you don’t post or share about politics or political issues on Facebook?\n",
      "Politics doesn’t belong there // How much is each of the following a reason you don’t post or share about politics or political issues on Facebook?\n",
      "You don’t care about politics // How much is each of the following a reason you don’t post or share about politics or political issues on Facebook?\n",
      "How much of what you see on Facebook is about politics or political issues?\n",
      "Overall, does what you see about politics or political issues on Facebook lean…\n",
      "On Facebook, do you think people feel free to openly express their political views?\n",
      "To get news // How much is each of the following a reason you use Instagram?\n",
      "To keep up with politics or political issues // How much is each of the following a reason you use Instagram?\n",
      "To keep up with sports or pop culture // How much is each of the following a reason you use Instagram?\n",
      "Because it’s entertaining // How much is each of the following a reason you use Instagram?\n",
      "To keep up with friends and family // How much is each of the following a reason you use Instagram?\n",
      "To connect with others who share your interests // How much is each of the following a reason you use Instagram?\n",
      "To look at product reviews or recommendations // How much is each of the following a reason you use Instagram?\n",
      "Overall, do you think Instagram...\n",
      "News outlets or journalists // Do you ever get news from each of the following on Instagram?\n",
      "Friends, family, and acquaintances // Do you ever get news from each of the following on Instagram?\n",
      "Influencers or celebrities // Do you ever get news from each of the following on Instagram?\n",
      "Advocacy or non-profit organizations // Do you ever get news from each of the following on Instagram?\n",
      "Other people you don’t know personally // Do you ever get news from each of the following on Instagram?\n",
      "Funny posts that reference current events // Do you ever see each of the following on Instagram?\n",
      "News articles, whether posted, reposted, linked, or screenshotted // Do you ever see each of the following on Instagram?\n",
      "People expressing opinions about current events // Do you ever see each of the following on Instagram?\n",
      "Information about a breaking news event as it’s happening // Do you ever see each of the following on Instagram?\n",
      "How often do you see news on Instagram that seems inaccurate?\n",
      "How much, if at all, do you think Instagram influences which news stories you see on the platform?\n",
      "Would you say the news you get on Instagram is…\n",
      "How often do you feel worn out by the news you see on Instagram?\n",
      "How much of a problem is people getting harassed on Instagram?\n",
      "Do you ever post or share on Instagram?\n",
      "How much of what you post or share on Instagram is about politics or political issues?\n",
      "Your views are welcome there // How much is each of the following a reason you post or share about politics or political issues on Instagram?\n",
      "It’s a place you can make a difference // How much is each of the following a reason you post or share about politics or political issues on Instagram?\n",
      "Politics belongs there // How much is each of the following a reason you post or share about politics or political issues on Instagram?\n",
      "You feel it’s something you should do // How much is each of the following a reason you post or share about politics or political issues on Instagram?\n",
      "You don’t want to be criticized or harassed there // How much is each of the following a reason you don’t post or share about politics or political issues on Instagram?\n",
      "Posting there won’t make a difference // How much is each of the following a reason you don’t post or share about politics or political issues on Instagram?\n",
      "Politics doesn’t belong there // How much is each of the following a reason you don’t post or share about politics or political issues on Instagram?\n",
      "You don’t care about politics // How much is each of the following a reason you don’t post or share about politics or political issues on Instagram?\n",
      "How much of what you see on Instagram is about politics or political issues?\n",
      "Overall, does what you see about politics or political issues on Instagram lean…\n",
      "On Instagram, do you think people feel free to openly express their political views?\n",
      "To get news // How much is each of the following a reason you use X (formerly Twitter)?\n",
      "To keep up with politics or political issues // How much is each of the following a reason you use X (formerly Twitter)?\n",
      "To keep up with sports or pop culture // How much is each of the following a reason you use X (formerly Twitter)?\n",
      "Because it’s entertaining // How much is each of the following a reason you use X (formerly Twitter)?\n",
      "To keep up with friends and family // How much is each of the following a reason you use X (formerly Twitter)?\n",
      "To connect with others who share your interests // How much is each of the following a reason you use X (formerly Twitter)?\n",
      "To look at product reviews or recommendations // How much is each of the following a reason you use X (formerly Twitter)?\n",
      "Overall, do you think X (formerly Twitter)...\n",
      "News outlets or journalists // Do you ever get news from each of the following on X (formerly Twitter)?\n",
      "Friends, family, and acquaintances // Do you ever get news from each of the following on X (formerly Twitter)?\n",
      "Influencers or celebrities // Do you ever get news from each of the following on X (formerly Twitter)?\n",
      "Advocacy or non-profit organizations // Do you ever get news from each of the following on X (formerly Twitter)?\n",
      "Other people you don’t know personally // Do you ever get news from each of the following on X (formerly Twitter)?\n",
      "Funny posts that reference current events // Do you ever see each of the following on X (formerly Twitter)?\n",
      "News articles, whether posted, reposted, linked, or screenshotted // Do you ever see each of the following on X (formerly Twitter)?\n",
      "People expressing opinions about current events // Do you ever see each of the following on X (formerly Twitter)?\n",
      "Information about a breaking news event as it’s happening // Do you ever see each of the following on X (formerly Twitter)?\n",
      "How often do you see news on X (formerly Twitter) that seems inaccurate?\n",
      "How much, if at all, do you think X (formerly Twitter) influences which news stories you see on the platform?\n",
      "Would you say the news you get on X (formerly Twitter) is…\n",
      "How often do you feel worn out by the news you see on X (formerly Twitter)?\n",
      "How much of a problem is people getting harassed on X (formerly Twitter)?\n",
      "Do you ever post or share on X (formerly Twitter)?\n",
      "How much of what you post or share on X (formerly Twitter) is about politics or political issues?\n",
      "Your views are welcome there // How much is each of the following a reason you post or share about politics or political issues on X (formerly Twitter)?\n",
      "It’s a place you can make a difference // How much is each of the following a reason you post or share about politics or political issues on X (formerly Twitter)?\n",
      "Politics belongs there // How much is each of the following a reason you post or share about politics or political issues on X (formerly Twitter)?\n",
      "You feel it’s something you should do // How much is each of the following a reason you post or share about politics or political issues on X (formerly Twitter)?\n",
      "You don’t want to be criticized or harassed there // How much is each of the following a reason you don’t post or share about politics or political issues on X (formerly Twitter)?\n",
      "Posting there won’t make a difference // How much is each of the following a reason you don’t post or share about politics or political issues on X (formerly Twitter)?\n",
      "Politics doesn’t belong there // How much is each of the following a reason you don’t post or share about politics or political issues on X (formerly Twitter)?\n",
      "You don’t care about politics // How much is each of the following a reason you don’t post or share about politics or political issues on X (formerly Twitter)?\n",
      "How much of what you see on X (formerly Twitter) is about politics or political issues?\n",
      "Overall, does what you see about politics or political issues on X (formerly Twitter) lean…\n",
      "On X (formerly Twitter), do you think people feel free to openly express their political views?\n",
      "To get news // How much is each of the following a reason you use TikTok?\n",
      "To keep up with politics or political issues // How much is each of the following a reason you use TikTok?\n",
      "To keep up with sports or pop culture // How much is each of the following a reason you use TikTok?\n",
      "Because it’s entertaining // How much is each of the following a reason you use TikTok?\n",
      "To keep up with friends and family // How much is each of the following a reason you use TikTok?\n",
      "To connect with others who share your interests // How much is each of the following a reason you use TikTok?\n",
      "To look at product reviews or recommendations // How much is each of the following a reason you use TikTok?\n",
      "Overall, do you think TikTok...\n",
      "News outlets or journalists // Do you ever get news from each of the following on TikTok?\n",
      "Friends, family, and acquaintances // Do you ever get news from each of the following on TikTok?\n",
      "Influencers or celebrities // Do you ever get news from each of the following on TikTok?\n",
      "Advocacy or non-profit organizations // Do you ever get news from each of the following on TikTok?\n",
      "Other people you don’t know personally // Do you ever get news from each of the following on TikTok?\n",
      "Funny posts that reference current events // Do you ever see each of the following on TikTok?\n",
      "News articles, whether posted, reposted, linked, or screenshotted // Do you ever see each of the following on TikTok?\n",
      "People expressing opinions about current events // Do you ever see each of the following on TikTok?\n",
      "Information about a breaking news event as it’s happening // Do you ever see each of the following on TikTok?\n",
      "How often do you see news on TikTok that seems inaccurate?\n",
      "How much, if at all, do you think TikTok influences which news stories you see on the platform?\n",
      "Would you say the news you get on TikTok is…\n",
      "How often do you feel worn out by the news you see on TikTok?\n",
      "How much of a problem is people getting harassed on TikTok?\n",
      "Do you ever post or share on TikTok?\n",
      "How much of what you post or share on TikTok is about politics or political issues?\n",
      "Your views are welcome there // How much is each of the following a reason you post or share about politics or political issues on TikTok?\n",
      "It’s a place you can make a difference // How much is each of the following a reason you post or share about politics or political issues on TikTok?\n",
      "Politics belongs there // How much is each of the following a reason you post or share about politics or political issues on TikTok?\n",
      "You feel it’s something you should do // How much is each of the following a reason you post or share about politics or political issues on TikTok?\n",
      "You don’t want to be criticized or harassed there // How much is each of the following a reason you don’t post or share about politics or political issues on TikTok?\n",
      "Posting there won’t make a difference // How much is each of the following a reason you don’t post or share about politics or political issues on TikTok?\n",
      "Politics doesn’t belong there // How much is each of the following a reason you don’t post or share about politics or political issues on TikTok?\n",
      "You don’t care about politics // How much is each of the following a reason you don’t post or share about politics or political issues on TikTok?\n",
      "How much of what you see on TikTok is about politics or political issues?\n",
      "Overall, does what you see about politics or political issues on TikTok lean…\n",
      "On TikTok, do you think people feel free to openly express their political views?\n",
      "Metropolitan area indicator\n",
      "Census region\n",
      "Census division\n",
      " Self-identified Urban, Suburban, Rural (USR)\n",
      "Age category\n",
      "Gender\n",
      "Education level category\n",
      "Education level category 2\n",
      "Hispanic identification\n",
      "Hispanic origin\n",
      "Years lived in the United States (excluding Puerto Rico or other U.S. territories) - 4 category\n",
      "Combining Race\n",
      "Race-Ethnicity\n",
      "Birthplace\n",
      "Marital status\n",
      "Religion\n",
      "Born-again or evangelical Christian\n",
      "Condensed 4-way religion variable\n",
      "Religious service attendance in person\n",
      "Party\n",
      "Party lean\n",
      "Party summary\n",
      "Combining ideology and party identification\n",
      "REG.   Voter registration\n",
      "Family income\n",
      "Ideology\n",
      "Frequency of internet use\n",
      "Volunteerism status\n",
      "Income tier 3-way\n",
      "Wave 144 weight\n",
      "Wave 144 weight for Block 1 (Facebook) questions\n",
      "Wave 144 weight for Block 2 (Instagram) questions\n",
      "Wave 144 weight for Block 3 (X/Twitter) questions\n",
      "Wave 144 weight for Block 4 (TikTok) questions\n"
     ]
    }
   ],
   "source": [
    "survey_tool.list_questions()"
   ]
  },
  {
   "cell_type": "code",
   "execution_count": 10,
   "id": "33f6baca-f6bc-4993-b6cd-a0f5e6855eac",
   "metadata": {},
   "outputs": [
    {
     "data": {
      "application/vnd.plotly.v1+json": {
       "config": {
        "plotlyServerURL": "https://plot.ly"
       },
       "data": [
        {
         "domain": {
          "x": [
           0,
           1
          ],
          "y": [
           0,
           1
          ]
         },
         "hovertemplate": "Response=%{label}<br>Count=%{value}<extra></extra>",
         "labels": [
          "Yes, I get news on Instagram from them",
          "No, I don’t get news on Instagram from them",
          "Refused"
         ],
         "legendgroup": "",
         "name": "",
         "showlegend": true,
         "type": "pie",
         "values": {
          "bdata": "PwMcAQQA",
          "dtype": "i2"
         }
        }
       ],
       "layout": {
        "height": 600,
        "legend": {
         "tracegroupgap": 0
        },
        "margin": {
         "t": 100
        },
        "template": {
         "data": {
          "bar": [
           {
            "error_x": {
             "color": "#2a3f5f"
            },
            "error_y": {
             "color": "#2a3f5f"
            },
            "marker": {
             "line": {
              "color": "#E5ECF6",
              "width": 0.5
             },
             "pattern": {
              "fillmode": "overlay",
              "size": 10,
              "solidity": 0.2
             }
            },
            "type": "bar"
           }
          ],
          "barpolar": [
           {
            "marker": {
             "line": {
              "color": "#E5ECF6",
              "width": 0.5
             },
             "pattern": {
              "fillmode": "overlay",
              "size": 10,
              "solidity": 0.2
             }
            },
            "type": "barpolar"
           }
          ],
          "carpet": [
           {
            "aaxis": {
             "endlinecolor": "#2a3f5f",
             "gridcolor": "white",
             "linecolor": "white",
             "minorgridcolor": "white",
             "startlinecolor": "#2a3f5f"
            },
            "baxis": {
             "endlinecolor": "#2a3f5f",
             "gridcolor": "white",
             "linecolor": "white",
             "minorgridcolor": "white",
             "startlinecolor": "#2a3f5f"
            },
            "type": "carpet"
           }
          ],
          "choropleth": [
           {
            "colorbar": {
             "outlinewidth": 0,
             "ticks": ""
            },
            "type": "choropleth"
           }
          ],
          "contour": [
           {
            "colorbar": {
             "outlinewidth": 0,
             "ticks": ""
            },
            "colorscale": [
             [
              0,
              "#0d0887"
             ],
             [
              0.1111111111111111,
              "#46039f"
             ],
             [
              0.2222222222222222,
              "#7201a8"
             ],
             [
              0.3333333333333333,
              "#9c179e"
             ],
             [
              0.4444444444444444,
              "#bd3786"
             ],
             [
              0.5555555555555556,
              "#d8576b"
             ],
             [
              0.6666666666666666,
              "#ed7953"
             ],
             [
              0.7777777777777778,
              "#fb9f3a"
             ],
             [
              0.8888888888888888,
              "#fdca26"
             ],
             [
              1,
              "#f0f921"
             ]
            ],
            "type": "contour"
           }
          ],
          "contourcarpet": [
           {
            "colorbar": {
             "outlinewidth": 0,
             "ticks": ""
            },
            "type": "contourcarpet"
           }
          ],
          "heatmap": [
           {
            "colorbar": {
             "outlinewidth": 0,
             "ticks": ""
            },
            "colorscale": [
             [
              0,
              "#0d0887"
             ],
             [
              0.1111111111111111,
              "#46039f"
             ],
             [
              0.2222222222222222,
              "#7201a8"
             ],
             [
              0.3333333333333333,
              "#9c179e"
             ],
             [
              0.4444444444444444,
              "#bd3786"
             ],
             [
              0.5555555555555556,
              "#d8576b"
             ],
             [
              0.6666666666666666,
              "#ed7953"
             ],
             [
              0.7777777777777778,
              "#fb9f3a"
             ],
             [
              0.8888888888888888,
              "#fdca26"
             ],
             [
              1,
              "#f0f921"
             ]
            ],
            "type": "heatmap"
           }
          ],
          "histogram": [
           {
            "marker": {
             "pattern": {
              "fillmode": "overlay",
              "size": 10,
              "solidity": 0.2
             }
            },
            "type": "histogram"
           }
          ],
          "histogram2d": [
           {
            "colorbar": {
             "outlinewidth": 0,
             "ticks": ""
            },
            "colorscale": [
             [
              0,
              "#0d0887"
             ],
             [
              0.1111111111111111,
              "#46039f"
             ],
             [
              0.2222222222222222,
              "#7201a8"
             ],
             [
              0.3333333333333333,
              "#9c179e"
             ],
             [
              0.4444444444444444,
              "#bd3786"
             ],
             [
              0.5555555555555556,
              "#d8576b"
             ],
             [
              0.6666666666666666,
              "#ed7953"
             ],
             [
              0.7777777777777778,
              "#fb9f3a"
             ],
             [
              0.8888888888888888,
              "#fdca26"
             ],
             [
              1,
              "#f0f921"
             ]
            ],
            "type": "histogram2d"
           }
          ],
          "histogram2dcontour": [
           {
            "colorbar": {
             "outlinewidth": 0,
             "ticks": ""
            },
            "colorscale": [
             [
              0,
              "#0d0887"
             ],
             [
              0.1111111111111111,
              "#46039f"
             ],
             [
              0.2222222222222222,
              "#7201a8"
             ],
             [
              0.3333333333333333,
              "#9c179e"
             ],
             [
              0.4444444444444444,
              "#bd3786"
             ],
             [
              0.5555555555555556,
              "#d8576b"
             ],
             [
              0.6666666666666666,
              "#ed7953"
             ],
             [
              0.7777777777777778,
              "#fb9f3a"
             ],
             [
              0.8888888888888888,
              "#fdca26"
             ],
             [
              1,
              "#f0f921"
             ]
            ],
            "type": "histogram2dcontour"
           }
          ],
          "mesh3d": [
           {
            "colorbar": {
             "outlinewidth": 0,
             "ticks": ""
            },
            "type": "mesh3d"
           }
          ],
          "parcoords": [
           {
            "line": {
             "colorbar": {
              "outlinewidth": 0,
              "ticks": ""
             }
            },
            "type": "parcoords"
           }
          ],
          "pie": [
           {
            "automargin": true,
            "type": "pie"
           }
          ],
          "scatter": [
           {
            "fillpattern": {
             "fillmode": "overlay",
             "size": 10,
             "solidity": 0.2
            },
            "type": "scatter"
           }
          ],
          "scatter3d": [
           {
            "line": {
             "colorbar": {
              "outlinewidth": 0,
              "ticks": ""
             }
            },
            "marker": {
             "colorbar": {
              "outlinewidth": 0,
              "ticks": ""
             }
            },
            "type": "scatter3d"
           }
          ],
          "scattercarpet": [
           {
            "marker": {
             "colorbar": {
              "outlinewidth": 0,
              "ticks": ""
             }
            },
            "type": "scattercarpet"
           }
          ],
          "scattergeo": [
           {
            "marker": {
             "colorbar": {
              "outlinewidth": 0,
              "ticks": ""
             }
            },
            "type": "scattergeo"
           }
          ],
          "scattergl": [
           {
            "marker": {
             "colorbar": {
              "outlinewidth": 0,
              "ticks": ""
             }
            },
            "type": "scattergl"
           }
          ],
          "scattermap": [
           {
            "marker": {
             "colorbar": {
              "outlinewidth": 0,
              "ticks": ""
             }
            },
            "type": "scattermap"
           }
          ],
          "scattermapbox": [
           {
            "marker": {
             "colorbar": {
              "outlinewidth": 0,
              "ticks": ""
             }
            },
            "type": "scattermapbox"
           }
          ],
          "scatterpolar": [
           {
            "marker": {
             "colorbar": {
              "outlinewidth": 0,
              "ticks": ""
             }
            },
            "type": "scatterpolar"
           }
          ],
          "scatterpolargl": [
           {
            "marker": {
             "colorbar": {
              "outlinewidth": 0,
              "ticks": ""
             }
            },
            "type": "scatterpolargl"
           }
          ],
          "scatterternary": [
           {
            "marker": {
             "colorbar": {
              "outlinewidth": 0,
              "ticks": ""
             }
            },
            "type": "scatterternary"
           }
          ],
          "surface": [
           {
            "colorbar": {
             "outlinewidth": 0,
             "ticks": ""
            },
            "colorscale": [
             [
              0,
              "#0d0887"
             ],
             [
              0.1111111111111111,
              "#46039f"
             ],
             [
              0.2222222222222222,
              "#7201a8"
             ],
             [
              0.3333333333333333,
              "#9c179e"
             ],
             [
              0.4444444444444444,
              "#bd3786"
             ],
             [
              0.5555555555555556,
              "#d8576b"
             ],
             [
              0.6666666666666666,
              "#ed7953"
             ],
             [
              0.7777777777777778,
              "#fb9f3a"
             ],
             [
              0.8888888888888888,
              "#fdca26"
             ],
             [
              1,
              "#f0f921"
             ]
            ],
            "type": "surface"
           }
          ],
          "table": [
           {
            "cells": {
             "fill": {
              "color": "#EBF0F8"
             },
             "line": {
              "color": "white"
             }
            },
            "header": {
             "fill": {
              "color": "#C8D4E3"
             },
             "line": {
              "color": "white"
             }
            },
            "type": "table"
           }
          ]
         },
         "layout": {
          "annotationdefaults": {
           "arrowcolor": "#2a3f5f",
           "arrowhead": 0,
           "arrowwidth": 1
          },
          "autotypenumbers": "strict",
          "coloraxis": {
           "colorbar": {
            "outlinewidth": 0,
            "ticks": ""
           }
          },
          "colorscale": {
           "diverging": [
            [
             0,
             "#8e0152"
            ],
            [
             0.1,
             "#c51b7d"
            ],
            [
             0.2,
             "#de77ae"
            ],
            [
             0.3,
             "#f1b6da"
            ],
            [
             0.4,
             "#fde0ef"
            ],
            [
             0.5,
             "#f7f7f7"
            ],
            [
             0.6,
             "#e6f5d0"
            ],
            [
             0.7,
             "#b8e186"
            ],
            [
             0.8,
             "#7fbc41"
            ],
            [
             0.9,
             "#4d9221"
            ],
            [
             1,
             "#276419"
            ]
           ],
           "sequential": [
            [
             0,
             "#0d0887"
            ],
            [
             0.1111111111111111,
             "#46039f"
            ],
            [
             0.2222222222222222,
             "#7201a8"
            ],
            [
             0.3333333333333333,
             "#9c179e"
            ],
            [
             0.4444444444444444,
             "#bd3786"
            ],
            [
             0.5555555555555556,
             "#d8576b"
            ],
            [
             0.6666666666666666,
             "#ed7953"
            ],
            [
             0.7777777777777778,
             "#fb9f3a"
            ],
            [
             0.8888888888888888,
             "#fdca26"
            ],
            [
             1,
             "#f0f921"
            ]
           ],
           "sequentialminus": [
            [
             0,
             "#0d0887"
            ],
            [
             0.1111111111111111,
             "#46039f"
            ],
            [
             0.2222222222222222,
             "#7201a8"
            ],
            [
             0.3333333333333333,
             "#9c179e"
            ],
            [
             0.4444444444444444,
             "#bd3786"
            ],
            [
             0.5555555555555556,
             "#d8576b"
            ],
            [
             0.6666666666666666,
             "#ed7953"
            ],
            [
             0.7777777777777778,
             "#fb9f3a"
            ],
            [
             0.8888888888888888,
             "#fdca26"
            ],
            [
             1,
             "#f0f921"
            ]
           ]
          },
          "colorway": [
           "#636efa",
           "#EF553B",
           "#00cc96",
           "#ab63fa",
           "#FFA15A",
           "#19d3f3",
           "#FF6692",
           "#B6E880",
           "#FF97FF",
           "#FECB52"
          ],
          "font": {
           "color": "#2a3f5f"
          },
          "geo": {
           "bgcolor": "white",
           "lakecolor": "white",
           "landcolor": "#E5ECF6",
           "showlakes": true,
           "showland": true,
           "subunitcolor": "white"
          },
          "hoverlabel": {
           "align": "left"
          },
          "hovermode": "closest",
          "mapbox": {
           "style": "light"
          },
          "paper_bgcolor": "white",
          "plot_bgcolor": "#E5ECF6",
          "polar": {
           "angularaxis": {
            "gridcolor": "white",
            "linecolor": "white",
            "ticks": ""
           },
           "bgcolor": "#E5ECF6",
           "radialaxis": {
            "gridcolor": "white",
            "linecolor": "white",
            "ticks": ""
           }
          },
          "scene": {
           "xaxis": {
            "backgroundcolor": "#E5ECF6",
            "gridcolor": "white",
            "gridwidth": 2,
            "linecolor": "white",
            "showbackground": true,
            "ticks": "",
            "zerolinecolor": "white"
           },
           "yaxis": {
            "backgroundcolor": "#E5ECF6",
            "gridcolor": "white",
            "gridwidth": 2,
            "linecolor": "white",
            "showbackground": true,
            "ticks": "",
            "zerolinecolor": "white"
           },
           "zaxis": {
            "backgroundcolor": "#E5ECF6",
            "gridcolor": "white",
            "gridwidth": 2,
            "linecolor": "white",
            "showbackground": true,
            "ticks": "",
            "zerolinecolor": "white"
           }
          },
          "shapedefaults": {
           "line": {
            "color": "#2a3f5f"
           }
          },
          "ternary": {
           "aaxis": {
            "gridcolor": "white",
            "linecolor": "white",
            "ticks": ""
           },
           "baxis": {
            "gridcolor": "white",
            "linecolor": "white",
            "ticks": ""
           },
           "bgcolor": "#E5ECF6",
           "caxis": {
            "gridcolor": "white",
            "linecolor": "white",
            "ticks": ""
           }
          },
          "title": {
           "x": 0.05
          },
          "xaxis": {
           "automargin": true,
           "gridcolor": "white",
           "linecolor": "white",
           "ticks": "",
           "title": {
            "standoff": 15
           },
           "zerolinecolor": "white",
           "zerolinewidth": 2
          },
          "yaxis": {
           "automargin": true,
           "gridcolor": "white",
           "linecolor": "white",
           "ticks": "",
           "title": {
            "standoff": 15
           },
           "zerolinecolor": "white",
           "zerolinewidth": 2
          }
         }
        },
        "title": {
         "font": {
          "size": 10
         },
         "text": "Friends, family, and acquaintances // Do you ever get news from each of the following on Instagram?"
        },
        "width": 600
       }
      },
      "image/png": "[encoded data removed]"
     },
     "metadata": {},
     "output_type": "display_data"
    }
   ],
   "source": [
    "survey_tool.vizualize_results('Friends, family, and acquaintances // Do you ever get news from each of the following on Instagram?')"
   ]
  }
 ],
 "metadata": {
  "kernelspec": {
   "display_name": "Polars Research",
   "language": "python",
   "name": "polars_research"
  },
  "language_info": {
   "codemirror_mode": {
    "name": "ipython",
    "version": 3
   },
   "file_extension": ".py",
   "mimetype": "text/x-python",
   "name": "python",
   "nbconvert_exporter": "python",
   "pygments_lexer": "ipython3",
   "version": "3.13.2"
  }
 },
 "nbformat": 4,
 "nbformat_minor": 5
}
