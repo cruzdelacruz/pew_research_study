{
 "cells": [
  {
   "cell_type": "code",
   "execution_count": 1,
   "id": "3ca62baf-153e-4d23-a28f-8443b92f88cc",
   "metadata": {},
   "outputs": [],
   "source": [
    "from SurveyTool.SurveyTool import SurveyTool\n",
    "from SurveyTool.CsvUtil import CsvUtil"
   ]
  },
  {
   "cell_type": "code",
   "execution_count": 2,
   "id": "4a930acd-4708-4bf9-9729-fa31f45b5285",
   "metadata": {},
   "outputs": [],
   "source": [
    "from pathlib import Path"
   ]
  },
  {
   "cell_type": "code",
   "execution_count": 3,
   "id": "549d9351-5a3d-490a-86f8-84e4b652af72",
   "metadata": {},
   "outputs": [],
   "source": [
    "path_to_survey_responses = Path(r'D:\\VisualStudio\\Python\\public_projects\\polars_research\\datasets\\W139_Dec23\\ATP W139.csv')\n",
    "path_to_codebook_xlsx = Path(r'D:\\VisualStudio\\Python\\public_projects\\polars_research\\datasets\\W139_Dec23\\ATP W139 Codebook.xlsx')"
   ]
  },
  {
   "cell_type": "code",
   "execution_count": 4,
   "id": "457e7209-f7ca-4104-ab0b-1b29e3988d35",
   "metadata": {},
   "outputs": [],
   "source": [
    "survey_tool = SurveyTool(path_to_survey_responses, path_to_codebook_xlsx)"
   ]
  },
  {
   "cell_type": "code",
   "execution_count": 5,
   "id": "584346f8-aea4-4f3f-ba24-2f4d96c3f31f",
   "metadata": {},
   "outputs": [
    {
     "name": "stdout",
     "output_type": "stream",
     "text": [
      "Succesfully wrote D:\\VisualStudio\\Python\\public_projects\\polars_research\\datasets\\W139_Dec23\\ATP W139 Codebook.csv\n"
     ]
    }
   ],
   "source": [
    "survey_tool.codebook_to_csv()"
   ]
  },
  {
   "cell_type": "code",
   "execution_count": 6,
   "id": "41260d57-2827-4230-a231-bd86f59b44db",
   "metadata": {},
   "outputs": [
    {
     "name": "stdout",
     "output_type": "stream",
     "text": [
      "Wrote D:\\VisualStudio\\Python\\public_projects\\polars_research\\datasets\\W139_Dec23\\ATP W139 Codebook_ffilled.csv\n"
     ]
    }
   ],
   "source": [
    "survey_tool.survey_codebook_csv.fill_forward('Variable_Label')"
   ]
  },
  {
   "cell_type": "code",
   "execution_count": null,
   "id": "7d49de1e-a117-458c-8b9b-6aa2ca34a62d",
   "metadata": {},
   "outputs": [],
   "source": [
    "survey_tool.question_lookup_dict()"
   ]
  }
 ],
 "metadata": {
  "kernelspec": {
   "display_name": "Polars Research",
   "language": "python",
   "name": "polars_research"
  },
  "language_info": {
   "codemirror_mode": {
    "name": "ipython",
    "version": 3
   },
   "file_extension": ".py",
   "mimetype": "text/x-python",
   "name": "python",
   "nbconvert_exporter": "python",
   "pygments_lexer": "ipython3",
   "version": "3.13.2"
  }
 },
 "nbformat": 4,
 "nbformat_minor": 5
}
